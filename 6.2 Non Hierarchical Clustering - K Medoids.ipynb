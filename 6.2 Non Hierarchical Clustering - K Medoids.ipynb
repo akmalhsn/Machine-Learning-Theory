{
 "cells": [
  {
   "cell_type": "markdown",
   "id": "79942709-3cc8-4c81-b10d-65485382ae20",
   "metadata": {},
   "source": [
    "# K-Medoids"
   ]
  },
  {
   "cell_type": "markdown",
   "id": "797fc289-a15a-429a-a5ba-beac87e3a387",
   "metadata": {},
   "source": [
    "- K-medoids adalah varian jenis clustering non-hieracial yang digunakan untuk mengatasi beberapa kekurangan yang ada di K-Means\n",
    "- K-means merupakan algoritma yang memanfaatkan perhitungan mean atau rata-rata, sehingga algoritma ini dipengaruhi oleh nilai outlier, yang menjadikan K-Means harus melakukan normalisasi data terlebih dahulu.\n",
    "- Pada k-medoids cara kerja lebih sederhana dibandingkan dengan K-Means, dimana centroid akan dipilih secara acak namun dengan nilai yang terdapat pada salah satu baris dataset, bukan mencari atau menentukan nilai baru."
   ]
  },
  {
   "cell_type": "markdown",
   "id": "9c4f7aba-e7bc-49e1-ab4c-aca3d9230a3e",
   "metadata": {},
   "source": [
    "## Tahapan K-Medoids\n",
    "\n",
    "1. Menentukan jumlah cluster yang diinginkan \n",
    "2. pilih secara acak medoid sebanyak k dari dataset yang tersedia\n",
    "3. hitung masing-masing jarak terhadap medoids\n",
    "4. melakukan iterasi medoids untuk mendapatkan cluster \n",
    "5. hitung total simgpangan. jika cluster tidak berubah dan julah jarak terdekat pada iterasi pertama lebih kecil dibandingkan iterasi kedua maka iterasi dihentikan\n",
    "6. jika tidak terpenuhi ulangi langkah ke 3 sampai 5"
   ]
  },
  {
   "cell_type": "markdown",
   "id": "071a57f9-6da6-4225-a937-ef5a0669895a",
   "metadata": {
    "tags": []
   },
   "source": [
    "## 1. Import Library"
   ]
  },
  {
   "cell_type": "code",
   "execution_count": 2,
   "id": "a61120d6-158d-4012-9d51-2e4e44778267",
   "metadata": {},
   "outputs": [],
   "source": [
    "import pandas as pd\n",
    "import numpy as np\n",
    "import seaborn as sns\n",
    "import matplotlib.pyplot as plt\n",
    "from sklearn_extra.cluster import KMedoids"
   ]
  },
  {
   "cell_type": "markdown",
   "id": "38cbe75f-01d8-4a10-b41c-a70358a42ba1",
   "metadata": {},
   "source": [
    "## 2. Membaca Dataset"
   ]
  },
  {
   "cell_type": "code",
   "execution_count": 4,
   "id": "8e3672fd-6bef-49b1-8204-bd4adbaf6d5c",
   "metadata": {
    "tags": []
   },
   "outputs": [
    {
     "data": {
      "text/html": [
       "<div>\n",
       "<style scoped>\n",
       "    .dataframe tbody tr th:only-of-type {\n",
       "        vertical-align: middle;\n",
       "    }\n",
       "\n",
       "    .dataframe tbody tr th {\n",
       "        vertical-align: top;\n",
       "    }\n",
       "\n",
       "    .dataframe thead th {\n",
       "        text-align: right;\n",
       "    }\n",
       "</style>\n",
       "<table border=\"1\" class=\"dataframe\">\n",
       "  <thead>\n",
       "    <tr style=\"text-align: right;\">\n",
       "      <th></th>\n",
       "      <th>No</th>\n",
       "      <th>Balita ke-</th>\n",
       "      <th>TB</th>\n",
       "      <th>BB</th>\n",
       "    </tr>\n",
       "  </thead>\n",
       "  <tbody>\n",
       "    <tr>\n",
       "      <th>0</th>\n",
       "      <td>1</td>\n",
       "      <td>Balita 1</td>\n",
       "      <td>52.0</td>\n",
       "      <td>5.8</td>\n",
       "    </tr>\n",
       "    <tr>\n",
       "      <th>1</th>\n",
       "      <td>2</td>\n",
       "      <td>Balita 2</td>\n",
       "      <td>51.0</td>\n",
       "      <td>5.0</td>\n",
       "    </tr>\n",
       "    <tr>\n",
       "      <th>2</th>\n",
       "      <td>3</td>\n",
       "      <td>Balita 3</td>\n",
       "      <td>71.5</td>\n",
       "      <td>8.5</td>\n",
       "    </tr>\n",
       "    <tr>\n",
       "      <th>3</th>\n",
       "      <td>4</td>\n",
       "      <td>Balita 4</td>\n",
       "      <td>55.0</td>\n",
       "      <td>5.5</td>\n",
       "    </tr>\n",
       "    <tr>\n",
       "      <th>4</th>\n",
       "      <td>5</td>\n",
       "      <td>Balita 5</td>\n",
       "      <td>92.5</td>\n",
       "      <td>6.5</td>\n",
       "    </tr>\n",
       "  </tbody>\n",
       "</table>\n",
       "</div>"
      ],
      "text/plain": [
       "   No Balita ke-    TB   BB\n",
       "0   1   Balita 1  52.0  5.8\n",
       "1   2   Balita 2  51.0  5.0\n",
       "2   3   Balita 3  71.5  8.5\n",
       "3   4   Balita 4  55.0  5.5\n",
       "4   5   Balita 5  92.5  6.5"
      ]
     },
     "execution_count": 4,
     "metadata": {},
     "output_type": "execute_result"
    }
   ],
   "source": [
    "gizi = pd.read_excel('dataset/dataset_gizi.xlsx')\n",
    "gizi.head()"
   ]
  },
  {
   "cell_type": "code",
   "execution_count": 5,
   "id": "9cefa09b-7a90-41ec-9382-db3bd9b5c6a4",
   "metadata": {
    "tags": []
   },
   "outputs": [
    {
     "name": "stdout",
     "output_type": "stream",
     "text": [
      "<class 'pandas.core.frame.DataFrame'>\n",
      "RangeIndex: 10 entries, 0 to 9\n",
      "Data columns (total 4 columns):\n",
      " #   Column      Non-Null Count  Dtype  \n",
      "---  ------      --------------  -----  \n",
      " 0   No          10 non-null     int64  \n",
      " 1   Balita ke-  10 non-null     object \n",
      " 2   TB          10 non-null     float64\n",
      " 3   BB          10 non-null     float64\n",
      "dtypes: float64(2), int64(1), object(1)\n",
      "memory usage: 452.0+ bytes\n"
     ]
    }
   ],
   "source": [
    "gizi.info()"
   ]
  },
  {
   "cell_type": "markdown",
   "id": "4ab265ff-5116-4de5-921c-a028d0233b60",
   "metadata": {},
   "source": [
    "## 3. Memilih Kolom untuk Pemodelan"
   ]
  },
  {
   "cell_type": "code",
   "execution_count": 6,
   "id": "0f66212d-ac8e-4edd-9717-732904641e9a",
   "metadata": {
    "tags": []
   },
   "outputs": [
    {
     "data": {
      "text/html": [
       "<div>\n",
       "<style scoped>\n",
       "    .dataframe tbody tr th:only-of-type {\n",
       "        vertical-align: middle;\n",
       "    }\n",
       "\n",
       "    .dataframe tbody tr th {\n",
       "        vertical-align: top;\n",
       "    }\n",
       "\n",
       "    .dataframe thead th {\n",
       "        text-align: right;\n",
       "    }\n",
       "</style>\n",
       "<table border=\"1\" class=\"dataframe\">\n",
       "  <thead>\n",
       "    <tr style=\"text-align: right;\">\n",
       "      <th></th>\n",
       "      <th>TB</th>\n",
       "      <th>BB</th>\n",
       "    </tr>\n",
       "  </thead>\n",
       "  <tbody>\n",
       "    <tr>\n",
       "      <th>0</th>\n",
       "      <td>52.0</td>\n",
       "      <td>5.8</td>\n",
       "    </tr>\n",
       "    <tr>\n",
       "      <th>1</th>\n",
       "      <td>51.0</td>\n",
       "      <td>5.0</td>\n",
       "    </tr>\n",
       "    <tr>\n",
       "      <th>2</th>\n",
       "      <td>71.5</td>\n",
       "      <td>8.5</td>\n",
       "    </tr>\n",
       "    <tr>\n",
       "      <th>3</th>\n",
       "      <td>55.0</td>\n",
       "      <td>5.5</td>\n",
       "    </tr>\n",
       "    <tr>\n",
       "      <th>4</th>\n",
       "      <td>92.5</td>\n",
       "      <td>6.5</td>\n",
       "    </tr>\n",
       "  </tbody>\n",
       "</table>\n",
       "</div>"
      ],
      "text/plain": [
       "     TB   BB\n",
       "0  52.0  5.8\n",
       "1  51.0  5.0\n",
       "2  71.5  8.5\n",
       "3  55.0  5.5\n",
       "4  92.5  6.5"
      ]
     },
     "execution_count": 6,
     "metadata": {},
     "output_type": "execute_result"
    }
   ],
   "source": [
    "gizi_x = gizi.iloc[:,2:4]\n",
    "gizi_x.head()"
   ]
  },
  {
   "cell_type": "markdown",
   "id": "7b720bf8-3f8a-4986-bfef-c736803fd8cd",
   "metadata": {},
   "source": [
    "## 4. Visualisasi sebaran Data "
   ]
  },
  {
   "cell_type": "code",
   "execution_count": 7,
   "id": "79c491d3-79ef-4b6c-a695-f42ce9d331a5",
   "metadata": {
    "tags": []
   },
   "outputs": [
    {
     "data": {
      "image/png": "[encoded data removed]",
      "text/plain": [
       "<Figure size 640x480 with 1 Axes>"
      ]
     },
     "metadata": {},
     "output_type": "display_data"
    }
   ],
   "source": [
    "plt.scatter(gizi.TB, gizi.BB, s = 10, c = 'c', marker = 'o', alpha = 1)\n",
    "plt.xlabel('TB')\n",
    "plt.ylabel('BB')\n",
    "plt.show()"
   ]
  },
  {
   "cell_type": "code",
   "execution_count": 2,
   "id": "6e890505-1aa5-4843-bafd-ba788637fb5d",
   "metadata": {
    "tags": []
   },
   "outputs": [
    {
     "ename": "NameError",
     "evalue": "name 'np' is not defined",
     "output_type": "error",
     "traceback": [
      "\u001b[1;31m---------------------------------------------------------------------------\u001b[0m",
      "\u001b[1;31mNameError\u001b[0m                                 Traceback (most recent call last)",
      "Cell \u001b[1;32mIn[2], line 2\u001b[0m\n\u001b[0;32m      1\u001b[0m \u001b[38;5;66;03m# Mengubah dataframe menjadi array untuk memudahkan saat normalisasi data \u001b[39;00m\n\u001b[1;32m----> 2\u001b[0m x_array \u001b[38;5;241m=\u001b[39m np\u001b[38;5;241m.\u001b[39marray(gizi_x)\n\u001b[0;32m      3\u001b[0m \u001b[38;5;28mprint\u001b[39m(x_array)\n",
      "\u001b[1;31mNameError\u001b[0m: name 'np' is not defined"
     ]
    }
   ],
   "source": [
    "# Mengubah dataframe menjadi array \n",
    "x_array = np.array(gizi_x)\n",
    "print(x_array)"
   ]
  },
  {
   "cell_type": "markdown",
   "id": "ee0229ef-c191-4181-9f3a-3d1666384244",
   "metadata": {},
   "source": [
    "## 5. Pemodelan K-Medoids"
   ]
  },
  {
   "cell_type": "code",
   "execution_count": 9,
   "id": "722996f1-4e88-415e-9ab0-eb9b86de5cec",
   "metadata": {
    "tags": []
   },
   "outputs": [],
   "source": [
    "KMedoids = KMedoids(n_clusters = 2, random_state= 0)"
   ]
  },
  {
   "cell_type": "code",
   "execution_count": 10,
   "id": "b573cb6c-3a9b-47d1-b1b8-5e372ddf8299",
   "metadata": {
    "tags": []
   },
   "outputs": [
    {
     "data": {
      "text/html": [
       "<style>#sk-container-id-1 {color: black;background-color: white;}#sk-container-id-1 pre{padding: 0;}#sk-container-id-1 div.sk-toggleable {background-color: white;}#sk-container-id-1 label.sk-toggleable__label {cursor: pointer;display: block;width: 100%;margin-bottom: 0;padding: 0.3em;box-sizing: border-box;text-align: center;}#sk-container-id-1 label.sk-toggleable__label-arrow:before {content: \"▸\";float: left;margin-right: 0.25em;color: #696969;}#sk-container-id-1 label.sk-toggleable__label-arrow:hover:before {color: black;}#sk-container-id-1 div.sk-estimator:hover label.sk-toggleable__label-arrow:before {color: black;}#sk-container-id-1 div.sk-toggleable__content {max-height: 0;max-width: 0;overflow: hidden;text-align: left;background-color: #f0f8ff;}#sk-container-id-1 div.sk-toggleable__content pre {margin: 0.2em;color: black;border-radius: 0.25em;background-color: #f0f8ff;}#sk-container-id-1 input.sk-toggleable__control:checked~div.sk-toggleable__content {max-height: 200px;max-width: 100%;overflow: auto;}#sk-container-id-1 input.sk-toggleable__control:checked~label.sk-toggleable__label-arrow:before {content: \"▾\";}#sk-container-id-1 div.sk-estimator input.sk-toggleable__control:checked~label.sk-toggleable__label {background-color: #d4ebff;}#sk-container-id-1 div.sk-label input.sk-toggleable__control:checked~label.sk-toggleable__label {background-color: #d4ebff;}#sk-container-id-1 input.sk-hidden--visually {border: 0;clip: rect(1px 1px 1px 1px);clip: rect(1px, 1px, 1px, 1px);height: 1px;margin: -1px;overflow: hidden;padding: 0;position: absolute;width: 1px;}#sk-container-id-1 div.sk-estimator {font-family: monospace;background-color: #f0f8ff;border: 1px dotted black;border-radius: 0.25em;box-sizing: border-box;margin-bottom: 0.5em;}#sk-container-id-1 div.sk-estimator:hover {background-color: #d4ebff;}#sk-container-id-1 div.sk-parallel-item::after {content: \"\";width: 100%;border-bottom: 1px solid gray;flex-grow: 1;}#sk-container-id-1 div.sk-label:hover label.sk-toggleable__label {background-color: #d4ebff;}#sk-container-id-1 div.sk-serial::before {content: \"\";position: absolute;border-left: 1px solid gray;box-sizing: border-box;top: 0;bottom: 0;left: 50%;z-index: 0;}#sk-container-id-1 div.sk-serial {display: flex;flex-direction: column;align-items: center;background-color: white;padding-right: 0.2em;padding-left: 0.2em;position: relative;}#sk-container-id-1 div.sk-item {position: relative;z-index: 1;}#sk-container-id-1 div.sk-parallel {display: flex;align-items: stretch;justify-content: center;background-color: white;position: relative;}#sk-container-id-1 div.sk-item::before, #sk-container-id-1 div.sk-parallel-item::before {content: \"\";position: absolute;border-left: 1px solid gray;box-sizing: border-box;top: 0;bottom: 0;left: 50%;z-index: -1;}#sk-container-id-1 div.sk-parallel-item {display: flex;flex-direction: column;z-index: 1;position: relative;background-color: white;}#sk-container-id-1 div.sk-parallel-item:first-child::after {align-self: flex-end;width: 50%;}#sk-container-id-1 div.sk-parallel-item:last-child::after {align-self: flex-start;width: 50%;}#sk-container-id-1 div.sk-parallel-item:only-child::after {width: 0;}#sk-container-id-1 div.sk-dashed-wrapped {border: 1px dashed gray;margin: 0 0.4em 0.5em 0.4em;box-sizing: border-box;padding-bottom: 0.4em;background-color: white;}#sk-container-id-1 div.sk-label label {font-family: monospace;font-weight: bold;display: inline-block;line-height: 1.2em;}#sk-container-id-1 div.sk-label-container {text-align: center;}#sk-container-id-1 div.sk-container {/* jupyter's `normalize.less` sets `[hidden] { display: none; }` but bootstrap.min.css set `[hidden] { display: none !important; }` so we also need the `!important` here to be able to override the default hidden behavior on the sphinx rendered scikit-learn.org. See: https://github.com/scikit-learn/scikit-learn/issues/21755 */display: inline-block !important;position: relative;}#sk-container-id-1 div.sk-text-repr-fallback {display: none;}</style><div id=\"sk-container-id-1\" class=\"sk-top-container\"><div class=\"sk-text-repr-fallback\"><pre>KMedoids(n_clusters=2, random_state=0)</pre><b>In a Jupyter environment, please rerun this cell to show the HTML representation or trust the notebook. <br />On GitHub, the HTML representation is unable to render, please try loading this page with nbviewer.org.</b></div><div class=\"sk-container\" hidden><div class=\"sk-item\"><div class=\"sk-estimator sk-toggleable\"><input class=\"sk-toggleable__control sk-hidden--visually\" id=\"sk-estimator-id-1\" type=\"checkbox\" checked><label for=\"sk-estimator-id-1\" class=\"sk-toggleable__label sk-toggleable__label-arrow\">KMedoids</label><div class=\"sk-toggleable__content\"><pre>KMedoids(n_clusters=2, random_state=0)</pre></div></div></div></div></div>"
      ],
      "text/plain": [
       "KMedoids(n_clusters=2, random_state=0)"
      ]
     },
     "execution_count": 10,
     "metadata": {},
     "output_type": "execute_result"
    }
   ],
   "source": [
    "KMedoids.fit(x_array)"
   ]
  },
  {
   "cell_type": "markdown",
   "id": "44366d65-2a94-467e-947b-175ed5713fcc",
   "metadata": {},
   "source": [
    "### Hasil pemodelan cluster pusat"
   ]
  },
  {
   "cell_type": "code",
   "execution_count": 11,
   "id": "6d69b20e-af42-47fe-ab00-2694f68d579d",
   "metadata": {
    "tags": []
   },
   "outputs": [
    {
     "name": "stdout",
     "output_type": "stream",
     "text": [
      "[[52.   5.8]\n",
      " [75.   8. ]]\n"
     ]
    }
   ],
   "source": [
    "print(KMedoids.cluster_centers_)"
   ]
  },
  {
   "cell_type": "code",
   "execution_count": 12,
   "id": "5c38c7d4-79dc-495a-9772-5ab39d306e87",
   "metadata": {
    "tags": []
   },
   "outputs": [],
   "source": [
    "gizi['cluster'] = KMedoids.labels_"
   ]
  },
  {
   "cell_type": "code",
   "execution_count": 13,
   "id": "2244f6d5-9f8c-4a01-92af-29c9d8a8e92a",
   "metadata": {
    "tags": []
   },
   "outputs": [
    {
     "data": {
      "text/html": [
       "<div>\n",
       "<style scoped>\n",
       "    .dataframe tbody tr th:only-of-type {\n",
       "        vertical-align: middle;\n",
       "    }\n",
       "\n",
       "    .dataframe tbody tr th {\n",
       "        vertical-align: top;\n",
       "    }\n",
       "\n",
       "    .dataframe thead th {\n",
       "        text-align: right;\n",
       "    }\n",
       "</style>\n",
       "<table border=\"1\" class=\"dataframe\">\n",
       "  <thead>\n",
       "    <tr style=\"text-align: right;\">\n",
       "      <th></th>\n",
       "      <th>No</th>\n",
       "      <th>Balita ke-</th>\n",
       "      <th>TB</th>\n",
       "      <th>BB</th>\n",
       "      <th>cluster</th>\n",
       "    </tr>\n",
       "  </thead>\n",
       "  <tbody>\n",
       "    <tr>\n",
       "      <th>0</th>\n",
       "      <td>1</td>\n",
       "      <td>Balita 1</td>\n",
       "      <td>52.0</td>\n",
       "      <td>5.8</td>\n",
       "      <td>0</td>\n",
       "    </tr>\n",
       "    <tr>\n",
       "      <th>1</th>\n",
       "      <td>2</td>\n",
       "      <td>Balita 2</td>\n",
       "      <td>51.0</td>\n",
       "      <td>5.0</td>\n",
       "      <td>0</td>\n",
       "    </tr>\n",
       "    <tr>\n",
       "      <th>2</th>\n",
       "      <td>3</td>\n",
       "      <td>Balita 3</td>\n",
       "      <td>71.5</td>\n",
       "      <td>8.5</td>\n",
       "      <td>1</td>\n",
       "    </tr>\n",
       "    <tr>\n",
       "      <th>3</th>\n",
       "      <td>4</td>\n",
       "      <td>Balita 4</td>\n",
       "      <td>55.0</td>\n",
       "      <td>5.5</td>\n",
       "      <td>0</td>\n",
       "    </tr>\n",
       "    <tr>\n",
       "      <th>4</th>\n",
       "      <td>5</td>\n",
       "      <td>Balita 5</td>\n",
       "      <td>92.5</td>\n",
       "      <td>6.5</td>\n",
       "      <td>1</td>\n",
       "    </tr>\n",
       "  </tbody>\n",
       "</table>\n",
       "</div>"
      ],
      "text/plain": [
       "   No Balita ke-    TB   BB  cluster\n",
       "0   1   Balita 1  52.0  5.8        0\n",
       "1   2   Balita 2  51.0  5.0        0\n",
       "2   3   Balita 3  71.5  8.5        1\n",
       "3   4   Balita 4  55.0  5.5        0\n",
       "4   5   Balita 5  92.5  6.5        1"
      ]
     },
     "execution_count": 13,
     "metadata": {},
     "output_type": "execute_result"
    }
   ],
   "source": [
    "gizi.head()"
   ]
  },
  {
   "cell_type": "markdown",
   "id": "08b1ab78-ac7d-4058-828e-e53105d257d5",
   "metadata": {},
   "source": [
    "## 6. Visualisasi Hasil Clustering"
   ]
  },
  {
   "cell_type": "code",
   "execution_count": 18,
   "id": "815b729d-396b-40b6-a417-1ab6e931abba",
   "metadata": {
    "tags": []
   },
   "outputs": [
    {
     "data": {
      "image/png": "[encoded data removed]",
      "text/plain": [
       "<Figure size 640x480 with 2 Axes>"
      ]
     },
     "metadata": {},
     "output_type": "display_data"
    }
   ],
   "source": [
    "output = plt.scatter(x_array[:,0], x_array[:,1], s= 400, c = gizi.cluster, marker = 'o', alpha = 1)\n",
    "centers = KMedoids.cluster_centers_\n",
    "plt.scatter(centers[:,0], centers[:,1], c = 'red', s =100, alpha = 1, marker = 's')\n",
    "\n",
    "plt.title('hasil clsutering k-medoids')\n",
    "plt.colorbar(output)\n",
    "plt.show()"
   ]
  },
  {
   "cell_type": "markdown",
   "id": "009b589f-dd24-444f-907d-c57969fc2db2",
   "metadata": {
    "tags": []
   },
   "source": [
    "## Kelebihan dan Kekurangan K-Medoids\n",
    "\n",
    "### Kelebihan \n",
    "\n",
    "1. Tidak dipengaruhi oleh outlier\n",
    "2. Mudah diimplementasikan dan dimengerti\n",
    "3. Mudah ditafsirkan\n",
    "\n",
    "#### Kekurangan\n",
    "\n",
    "1. pengaturan cluster secara manual akan menyebabkan hasil yang tidak optimal"
   ]
  }
 ],
 "metadata": {
  "kernelspec": {
   "display_name": "vulcan_da",
   "language": "python",
   "name": "vulcan_da"
  },
  "language_info": {
   "codemirror_mode": {
    "name": "ipython",
    "version": 3
   },
   "file_extension": ".py",
   "mimetype": "text/x-python",
   "name": "python",
   "nbconvert_exporter": "python",
   "pygments_lexer": "ipython3",
   "version": "3.11.5"
  }
 },
 "nbformat": 4,
 "nbformat_minor": 5
}
