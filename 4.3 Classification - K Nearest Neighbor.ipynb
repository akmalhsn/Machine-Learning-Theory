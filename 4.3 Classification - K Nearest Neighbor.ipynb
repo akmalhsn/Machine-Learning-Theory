{
 "cells": [
  {
   "cell_type": "markdown",
   "id": "a2637273-0e1a-4bd5-b2f0-6be761a4e3de",
   "metadata": {},
   "source": [
    "# K Nearest Neighbor"
   ]
  },
  {
   "cell_type": "markdown",
   "id": "75bb32d7-4eb6-4551-9b03-75c10dd2a2fb",
   "metadata": {
    "tags": []
   },
   "source": [
    "- KNN adalah algoritma yang menilai suatu data testing/uji berdasarkan tetangga terdekatnya. \n",
    "- Pengukuran dekat atau jauh dilakukan menggunakan pengukuran jarak\n",
    "- jarak dihitung menggunakan rumus euclidian distance\n",
    "- K adalah konstanta jumlah tetangga terdekatnya"
   ]
  },
  {
   "cell_type": "markdown",
   "id": "9214c1f8-9cf1-4bfc-9859-c1b99b52242b",
   "metadata": {
    "tags": []
   },
   "source": [
    "## 1. Import Library "
   ]
  },
  {
   "cell_type": "code",
   "execution_count": 4,
   "id": "435ef935-0872-4bce-b49a-1e156105ec8c",
   "metadata": {
    "tags": []
   },
   "outputs": [],
   "source": [
    "import pandas as pd\n",
    "from sklearn.model_selection import train_test_split\n",
    "from sklearn import metrics\n"
   ]
  },
  {
   "cell_type": "markdown",
   "id": "6c03048e-f835-4172-a61c-075319a89939",
   "metadata": {},
   "source": [
    "## 2. Pembacaan File"
   ]
  },
  {
   "cell_type": "code",
   "execution_count": 5,
   "id": "b5734e74-60d8-444a-835a-7107b15a674f",
   "metadata": {
    "tags": []
   },
   "outputs": [],
   "source": [
    "df= pd.read_csv('dataset/gizi.csv')"
   ]
  },
  {
   "cell_type": "code",
   "execution_count": 6,
   "id": "05a62c6d-8517-4738-a8e3-606b4db4a8d8",
   "metadata": {
    "tags": []
   },
   "outputs": [
    {
     "data": {
      "text/html": [
       "<div>\n",
       "<style scoped>\n",
       "    .dataframe tbody tr th:only-of-type {\n",
       "        vertical-align: middle;\n",
       "    }\n",
       "\n",
       "    .dataframe tbody tr th {\n",
       "        vertical-align: top;\n",
       "    }\n",
       "\n",
       "    .dataframe thead th {\n",
       "        text-align: right;\n",
       "    }\n",
       "</style>\n",
       "<table border=\"1\" class=\"dataframe\">\n",
       "  <thead>\n",
       "    <tr style=\"text-align: right;\">\n",
       "      <th></th>\n",
       "      <th>Tinggi</th>\n",
       "      <th>Berat</th>\n",
       "      <th>L Perut</th>\n",
       "      <th>L Panggul</th>\n",
       "      <th>Lemak</th>\n",
       "      <th>Label</th>\n",
       "    </tr>\n",
       "  </thead>\n",
       "  <tbody>\n",
       "    <tr>\n",
       "      <th>0</th>\n",
       "      <td>160.0</td>\n",
       "      <td>70</td>\n",
       "      <td>78.0</td>\n",
       "      <td>99.0</td>\n",
       "      <td>33.3</td>\n",
       "      <td>3</td>\n",
       "    </tr>\n",
       "    <tr>\n",
       "      <th>1</th>\n",
       "      <td>162.0</td>\n",
       "      <td>56</td>\n",
       "      <td>74.0</td>\n",
       "      <td>90.0</td>\n",
       "      <td>31.7</td>\n",
       "      <td>3</td>\n",
       "    </tr>\n",
       "    <tr>\n",
       "      <th>2</th>\n",
       "      <td>155.0</td>\n",
       "      <td>63</td>\n",
       "      <td>76.5</td>\n",
       "      <td>95.5</td>\n",
       "      <td>37.8</td>\n",
       "      <td>3</td>\n",
       "    </tr>\n",
       "    <tr>\n",
       "      <th>3</th>\n",
       "      <td>156.0</td>\n",
       "      <td>54</td>\n",
       "      <td>74.0</td>\n",
       "      <td>88.0</td>\n",
       "      <td>31.0</td>\n",
       "      <td>2</td>\n",
       "    </tr>\n",
       "    <tr>\n",
       "      <th>4</th>\n",
       "      <td>155.0</td>\n",
       "      <td>55</td>\n",
       "      <td>79.0</td>\n",
       "      <td>88.0</td>\n",
       "      <td>27.0</td>\n",
       "      <td>3</td>\n",
       "    </tr>\n",
       "  </tbody>\n",
       "</table>\n",
       "</div>"
      ],
      "text/plain": [
       "   Tinggi  Berat  L Perut  L Panggul  Lemak  Label\n",
       "0   160.0     70     78.0       99.0   33.3      3\n",
       "1   162.0     56     74.0       90.0   31.7      3\n",
       "2   155.0     63     76.5       95.5   37.8      3\n",
       "3   156.0     54     74.0       88.0   31.0      2\n",
       "4   155.0     55     79.0       88.0   27.0      3"
      ]
     },
     "execution_count": 6,
     "metadata": {},
     "output_type": "execute_result"
    }
   ],
   "source": [
    "df.head()"
   ]
  },
  {
   "cell_type": "markdown",
   "id": "a08618f5-4a47-40ab-99d2-60f48e11c13f",
   "metadata": {},
   "source": [
    "## 3. Menentukan variable Prediktor dan Variable Target"
   ]
  },
  {
   "cell_type": "code",
   "execution_count": 7,
   "id": "f7705d93-4a59-4bbd-aae7-fc06ea205004",
   "metadata": {
    "tags": []
   },
   "outputs": [],
   "source": [
    "X = df.iloc[:, :-1].values\n",
    "y = df.iloc[:, 5].values"
   ]
  },
  {
   "cell_type": "markdown",
   "id": "a6ee7388-d8c8-4cb4-a226-fd56ef9479bd",
   "metadata": {},
   "source": [
    "## 4. Melakukan Splitting Data "
   ]
  },
  {
   "cell_type": "code",
   "execution_count": 8,
   "id": "56431e41-14bf-40d2-8e2d-3a0f305fb8d9",
   "metadata": {
    "tags": []
   },
   "outputs": [],
   "source": [
    "from sklearn.model_selection import train_test_split\n",
    "X_train, X_test, y_train, y_test = train_test_split(X, y, test_size=0.3, random_state=1)"
   ]
  },
  {
   "cell_type": "markdown",
   "id": "1c38dcd2-40b5-4c89-8e52-506c402071b6",
   "metadata": {},
   "source": [
    "## 5. Pemodelan KNN"
   ]
  },
  {
   "cell_type": "code",
   "execution_count": 9,
   "id": "881e99ff-3546-4b8b-9136-cb29d8c1806d",
   "metadata": {
    "tags": []
   },
   "outputs": [
    {
     "data": {
      "text/html": [
       "<style>#sk-container-id-1 {color: black;background-color: white;}#sk-container-id-1 pre{padding: 0;}#sk-container-id-1 div.sk-toggleable {background-color: white;}#sk-container-id-1 label.sk-toggleable__label {cursor: pointer;display: block;width: 100%;margin-bottom: 0;padding: 0.3em;box-sizing: border-box;text-align: center;}#sk-container-id-1 label.sk-toggleable__label-arrow:before {content: \"▸\";float: left;margin-right: 0.25em;color: #696969;}#sk-container-id-1 label.sk-toggleable__label-arrow:hover:before {color: black;}#sk-container-id-1 div.sk-estimator:hover label.sk-toggleable__label-arrow:before {color: black;}#sk-container-id-1 div.sk-toggleable__content {max-height: 0;max-width: 0;overflow: hidden;text-align: left;background-color: #f0f8ff;}#sk-container-id-1 div.sk-toggleable__content pre {margin: 0.2em;color: black;border-radius: 0.25em;background-color: #f0f8ff;}#sk-container-id-1 input.sk-toggleable__control:checked~div.sk-toggleable__content {max-height: 200px;max-width: 100%;overflow: auto;}#sk-container-id-1 input.sk-toggleable__control:checked~label.sk-toggleable__label-arrow:before {content: \"▾\";}#sk-container-id-1 div.sk-estimator input.sk-toggleable__control:checked~label.sk-toggleable__label {background-color: #d4ebff;}#sk-container-id-1 div.sk-label input.sk-toggleable__control:checked~label.sk-toggleable__label {background-color: #d4ebff;}#sk-container-id-1 input.sk-hidden--visually {border: 0;clip: rect(1px 1px 1px 1px);clip: rect(1px, 1px, 1px, 1px);height: 1px;margin: -1px;overflow: hidden;padding: 0;position: absolute;width: 1px;}#sk-container-id-1 div.sk-estimator {font-family: monospace;background-color: #f0f8ff;border: 1px dotted black;border-radius: 0.25em;box-sizing: border-box;margin-bottom: 0.5em;}#sk-container-id-1 div.sk-estimator:hover {background-color: #d4ebff;}#sk-container-id-1 div.sk-parallel-item::after {content: \"\";width: 100%;border-bottom: 1px solid gray;flex-grow: 1;}#sk-container-id-1 div.sk-label:hover label.sk-toggleable__label {background-color: #d4ebff;}#sk-container-id-1 div.sk-serial::before {content: \"\";position: absolute;border-left: 1px solid gray;box-sizing: border-box;top: 0;bottom: 0;left: 50%;z-index: 0;}#sk-container-id-1 div.sk-serial {display: flex;flex-direction: column;align-items: center;background-color: white;padding-right: 0.2em;padding-left: 0.2em;position: relative;}#sk-container-id-1 div.sk-item {position: relative;z-index: 1;}#sk-container-id-1 div.sk-parallel {display: flex;align-items: stretch;justify-content: center;background-color: white;position: relative;}#sk-container-id-1 div.sk-item::before, #sk-container-id-1 div.sk-parallel-item::before {content: \"\";position: absolute;border-left: 1px solid gray;box-sizing: border-box;top: 0;bottom: 0;left: 50%;z-index: -1;}#sk-container-id-1 div.sk-parallel-item {display: flex;flex-direction: column;z-index: 1;position: relative;background-color: white;}#sk-container-id-1 div.sk-parallel-item:first-child::after {align-self: flex-end;width: 50%;}#sk-container-id-1 div.sk-parallel-item:last-child::after {align-self: flex-start;width: 50%;}#sk-container-id-1 div.sk-parallel-item:only-child::after {width: 0;}#sk-container-id-1 div.sk-dashed-wrapped {border: 1px dashed gray;margin: 0 0.4em 0.5em 0.4em;box-sizing: border-box;padding-bottom: 0.4em;background-color: white;}#sk-container-id-1 div.sk-label label {font-family: monospace;font-weight: bold;display: inline-block;line-height: 1.2em;}#sk-container-id-1 div.sk-label-container {text-align: center;}#sk-container-id-1 div.sk-container {/* jupyter's `normalize.less` sets `[hidden] { display: none; }` but bootstrap.min.css set `[hidden] { display: none !important; }` so we also need the `!important` here to be able to override the default hidden behavior on the sphinx rendered scikit-learn.org. See: https://github.com/scikit-learn/scikit-learn/issues/21755 */display: inline-block !important;position: relative;}#sk-container-id-1 div.sk-text-repr-fallback {display: none;}</style><div id=\"sk-container-id-1\" class=\"sk-top-container\"><div class=\"sk-text-repr-fallback\"><pre>KNeighborsClassifier(metric=&#x27;euclidean&#x27;, n_neighbors=3)</pre><b>In a Jupyter environment, please rerun this cell to show the HTML representation or trust the notebook. <br />On GitHub, the HTML representation is unable to render, please try loading this page with nbviewer.org.</b></div><div class=\"sk-container\" hidden><div class=\"sk-item\"><div class=\"sk-estimator sk-toggleable\"><input class=\"sk-toggleable__control sk-hidden--visually\" id=\"sk-estimator-id-1\" type=\"checkbox\" checked><label for=\"sk-estimator-id-1\" class=\"sk-toggleable__label sk-toggleable__label-arrow\">KNeighborsClassifier</label><div class=\"sk-toggleable__content\"><pre>KNeighborsClassifier(metric=&#x27;euclidean&#x27;, n_neighbors=3)</pre></div></div></div></div></div>"
      ],
      "text/plain": [
       "KNeighborsClassifier(metric='euclidean', n_neighbors=3)"
      ]
     },
     "execution_count": 9,
     "metadata": {},
     "output_type": "execute_result"
    }
   ],
   "source": [
    "from sklearn.neighbors import KNeighborsClassifier\n",
    "\n",
    "model = KNeighborsClassifier(n_neighbors=3,weights='uniform',metric='euclidean')\n",
    "model.fit(X_train, y_train)"
   ]
  },
  {
   "cell_type": "markdown",
   "id": "b3d73b8a-0881-4465-b24c-abc3a830ff43",
   "metadata": {},
   "source": [
    "## 6. Melakukan Prediksi"
   ]
  },
  {
   "cell_type": "code",
   "execution_count": 10,
   "id": "83d1ee75-bc43-41d0-9b47-d5a260ba2b61",
   "metadata": {
    "tags": []
   },
   "outputs": [],
   "source": [
    "y_pred = model.predict(X_test)"
   ]
  },
  {
   "cell_type": "markdown",
   "id": "0da8682d-af7a-4290-a7f8-7d3c70a662b8",
   "metadata": {},
   "source": [
    "## 7. Evaluasi Hasil"
   ]
  },
  {
   "cell_type": "code",
   "execution_count": 11,
   "id": "8cb1f0c5-9e99-4ccb-baf3-682ac9a51d16",
   "metadata": {
    "tags": []
   },
   "outputs": [
    {
     "name": "stdout",
     "output_type": "stream",
     "text": [
      "Accuracy: 1.0\n"
     ]
    }
   ],
   "source": [
    "print(\"Accuracy:\",metrics.accuracy_score(y_test, y_pred))"
   ]
  },
  {
   "cell_type": "markdown",
   "id": "8bba84d8-e69e-449a-9fb0-1dc037635419",
   "metadata": {},
   "source": [
    "**insight:**\n",
    "- hasil diatas menunjukan nilai akurasi 100%, sangat jarang terjadi namun data yang digunakan hanya untuk contoh"
   ]
  },
  {
   "cell_type": "markdown",
   "id": "85921e1b-63ec-40b5-83fb-194a4b7285f4",
   "metadata": {
    "tags": []
   },
   "source": [
    "# Kelebihan dan Kekurangan Model KNN\n",
    "\n",
    "## Kelebihan\n",
    "- mudah dipahami dan diimplementasikan \n",
    "- lebih efektif pada data training yang besar\n",
    "- dapat menghasilkan data yan lebih akurat\n",
    "\n",
    "## Kekurangan \n",
    "- Harus menenmukan nilai K yang paling optimal\n",
    "- biaya komputasi yang tinggi \n",
    "- sensitif terhadap outlier "
   ]
  }
 ],
 "metadata": {
  "kernelspec": {
   "display_name": "vulcan_da",
   "language": "python",
   "name": "vulcan_da"
  },
  "language_info": {
   "codemirror_mode": {
    "name": "ipython",
    "version": 3
   },
   "file_extension": ".py",
   "mimetype": "text/x-python",
   "name": "python",
   "nbconvert_exporter": "python",
   "pygments_lexer": "ipython3",
   "version": "3.11.5"
  }
 },
 "nbformat": 4,
 "nbformat_minor": 5
}
