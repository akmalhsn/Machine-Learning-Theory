{
 "cells": [
  {
   "cell_type": "markdown",
   "id": "b2e87d30-deb2-42f2-a825-e5445e8b8c86",
   "metadata": {},
   "source": [
    "# Simple Linear Regression"
   ]
  },
  {
   "cell_type": "markdown",
   "id": "0a209315-bd4d-4ef4-acef-1b48713d5586",
   "metadata": {},
   "source": [
    "- SLR merupakan jenis regresi yang terdiri dari satu variable independent (prediktor) yang akan memprediksi variable dependent (target)\n",
    "- rumus SLR ...    **Y=βo+β1X+ϵ**\n",
    "    - Y  = variable target\n",
    "    - X  = variable prediktor\n",
    "    - βo = konstanta, perpotongan garis regresi dengan sumbu Y (nilai estimasi jika x = 0)\n",
    "    - β1 = koefisien regresi (slope)\n",
    "    - ϵ  = kesalahan acak  "
   ]
  },
  {
   "cell_type": "markdown",
   "id": "723d94d3-4f03-40bc-8a09-0cd6e496789e",
   "metadata": {},
   "source": [
    "### Tahapan dalam melakukan teknik SLR secara manual\n",
    "\n",
    "1. mencari apakah ada hubungan antara variable x dan y > *cukup melihat saja dataset yang ada*\n",
    "2. menentukan variable x dan variable y > * variabel x adalah variable pengaruh dan variable y adalah variable yang dipengaruhi*\n",
    "3. membuat scatter plot dari variabel x dan y \n",
    "4. analisis scatter plot, apakah ada hubungan liner ? jika ya maka model regresinya adalah SLR\n",
    "5. menghitung a (intercept/koefisien model regresi) dan b (slope/ kemiringan gradien model) \n",
    "6. menghitung estimasi nilai y-hat = bo + bX, jika x dimasukan ke dalam persamaan regresi\n",
    "7. membuat garis y-hat = bo + b1.X pada sumbu X dan Y"
   ]
  },
  {
   "cell_type": "markdown",
   "id": "96010842-ccad-40ca-9b73-1ebfa2ad81e3",
   "metadata": {
    "tags": []
   },
   "source": [
    "### Tahapan dalam melakukan teknik SLR menggunakan Python"
   ]
  },
  {
   "cell_type": "markdown",
   "id": "6c9247ca-a73f-4154-94dd-51be8f2856fb",
   "metadata": {},
   "source": [
    "#### 1. Import Library"
   ]
  },
  {
   "cell_type": "markdown",
   "id": "e2c4be06-845c-4e64-a002-afc692c3fb42",
   "metadata": {},
   "source": [
    "library merupakan kumpulan fungsi-fungsi yang digunakan untuk melakukan tugas tertentu. Melalui penggunaan library, penulisan code menjadi efektif karena terhindar penulisan formula yang detail, berulang dan rapih. Untuk itu kita harus menggunakan library sesuai tugas dan kegunaannya melalui pemanggilan library terlebih dahulu.  "
   ]
  },
  {
   "cell_type": "code",
   "execution_count": 4,
   "id": "7de9c12b-ad52-4dea-bf80-01a5112edd60",
   "metadata": {
    "tags": []
   },
   "outputs": [],
   "source": [
    "import pandas as pd # umum digunakan untuk mengubah data, membaca data dll\n",
    "import numpy as np # melakukan operasi perhitungan numerik\n",
    "from sklearn import linear_model # memanggil model regresi\n",
    "from sklearn.linear_model import LinearRegression # memanggil regresi linear \n",
    "from sklearn.model_selection import train_test_split # memisahkan data train dan data test\n",
    "import seaborn as sns # menampilkan visualisasi data\n",
    "from sklearn import metrics # memanggil berbagai metrics evaluasi\n",
    "import matplotlib.pyplot as plt # melakukan visualisasi data\n",
    "%matplotlib inline "
   ]
  },
  {
   "cell_type": "markdown",
   "id": "dda3e300-d0ea-4853-bf99-d2b46a36a79f",
   "metadata": {},
   "source": [
    "#### 2. Membaca Data "
   ]
  },
  {
   "cell_type": "markdown",
   "id": "75c6e639-7e01-44d9-ae1d-524e39b8204a",
   "metadata": {},
   "source": [
    "Setelah library dipanggil kedalam notebook, maka dataset yang ada di dalam komputer dipindahkan ke dalam notebook melalui import file yang selanjuntya disimpan ke dalam suatu variable atau objek."
   ]
  },
  {
   "cell_type": "code",
   "execution_count": 5,
   "id": "252fede0-f066-4f17-902f-f9a461aec3d1",
   "metadata": {
    "tags": []
   },
   "outputs": [
    {
     "data": {
      "text/html": [
       "<div>\n",
       "<style scoped>\n",
       "    .dataframe tbody tr th:only-of-type {\n",
       "        vertical-align: middle;\n",
       "    }\n",
       "\n",
       "    .dataframe tbody tr th {\n",
       "        vertical-align: top;\n",
       "    }\n",
       "\n",
       "    .dataframe thead th {\n",
       "        text-align: right;\n",
       "    }\n",
       "</style>\n",
       "<table border=\"1\" class=\"dataframe\">\n",
       "  <thead>\n",
       "    <tr style=\"text-align: right;\">\n",
       "      <th></th>\n",
       "      <th>Hours</th>\n",
       "      <th>Scores</th>\n",
       "    </tr>\n",
       "  </thead>\n",
       "  <tbody>\n",
       "    <tr>\n",
       "      <th>0</th>\n",
       "      <td>2.5</td>\n",
       "      <td>21</td>\n",
       "    </tr>\n",
       "    <tr>\n",
       "      <th>1</th>\n",
       "      <td>5.1</td>\n",
       "      <td>47</td>\n",
       "    </tr>\n",
       "    <tr>\n",
       "      <th>2</th>\n",
       "      <td>3.2</td>\n",
       "      <td>27</td>\n",
       "    </tr>\n",
       "    <tr>\n",
       "      <th>3</th>\n",
       "      <td>8.5</td>\n",
       "      <td>75</td>\n",
       "    </tr>\n",
       "    <tr>\n",
       "      <th>4</th>\n",
       "      <td>3.5</td>\n",
       "      <td>30</td>\n",
       "    </tr>\n",
       "  </tbody>\n",
       "</table>\n",
       "</div>"
      ],
      "text/plain": [
       "   Hours  Scores\n",
       "0    2.5      21\n",
       "1    5.1      47\n",
       "2    3.2      27\n",
       "3    8.5      75\n",
       "4    3.5      30"
      ]
     },
     "execution_count": 5,
     "metadata": {},
     "output_type": "execute_result"
    }
   ],
   "source": [
    "df = pd.read_csv('dataset/nilai.csv') # memanggil data csv dan memasukan ke dalam variable df\n",
    "df.head() # cek 5 nilai teratas"
   ]
  },
  {
   "cell_type": "markdown",
   "id": "df33bba8-1efd-4ac4-8c30-3d5d7380c312",
   "metadata": {},
   "source": [
    "Setelah data berhasil dibaca oleh notebook, maka tahap selanjutnya adalah data pre-processing. Tahapan ini bertujuan agar data yang digunakan dapat diterima oleh model. Ada serangkaian tahapan data pre-processing yang digunakan yaitu \n",
    "1. EDA\n",
    "2. \n"
   ]
  },
  {
   "cell_type": "markdown",
   "id": "04ace514-ef82-48cc-8d6a-f95925e1221a",
   "metadata": {
    "tags": []
   },
   "source": [
    "#### 3. Exploratory Data Analysis\n",
    "\n",
    "EDA merupakan serangkaian teknik dan metode yang digunakan untuk menggali dan memahami karakteristik utama dari dataset sebelum menjalankan analisis lebih lanjut atau membangun model. Tujuan EDA adalah untuk mengidentifikasi pola, anomali, dan hubungan dalam data secara deskriptif. Berikut hal yang dilakukan dalam EDA, "
   ]
  },
  {
   "cell_type": "markdown",
   "id": "50ebfe84-d980-4f00-ad9d-72eb8eb3eba0",
   "metadata": {},
   "source": [
    "##### 3.1 Melihat dimensi dataset yang digunakan "
   ]
  },
  {
   "cell_type": "code",
   "execution_count": 6,
   "id": "14b0415b-0538-4d3d-a438-9d9b7b6d7238",
   "metadata": {
    "tags": []
   },
   "outputs": [
    {
     "data": {
      "text/plain": [
       "(15, 2)"
      ]
     },
     "execution_count": 6,
     "metadata": {},
     "output_type": "execute_result"
    }
   ],
   "source": [
    "df.shape # melihat dimensi data "
   ]
  },
  {
   "cell_type": "markdown",
   "id": "b23c8ad1-a031-4b47-8575-afca91bd8afe",
   "metadata": {},
   "source": [
    "karena hanya ada dua variable maka dalam EDA yang paling sesuai adalah melakukan Bivariate Analysis"
   ]
  },
  {
   "cell_type": "markdown",
   "id": "f49e3b29-b2b2-4c1b-aabc-1b7ebf1b30a8",
   "metadata": {
    "tags": []
   },
   "source": [
    "##### 3.2 Bivariate Analysis \n",
    "\n",
    "Bivariate analysis adalah Teknik analysis dan eksplorasi pada dua kolom dalam dataset. Umumnya menggunakan 1 kolom predictor dan 1 kolom target."
   ]
  },
  {
   "cell_type": "markdown",
   "id": "e1031a0f-28a6-4ae6-9b53-aa6b424d3295",
   "metadata": {
    "tags": []
   },
   "source": [
    "##### 3.2.1 Melihat distribusi data "
   ]
  },
  {
   "cell_type": "code",
   "execution_count": 7,
   "id": "dc8fa83a-06ae-4a8f-8cf4-2610fb041e57",
   "metadata": {
    "tags": []
   },
   "outputs": [
    {
     "data": {
      "text/html": [
       "<div>\n",
       "<style scoped>\n",
       "    .dataframe tbody tr th:only-of-type {\n",
       "        vertical-align: middle;\n",
       "    }\n",
       "\n",
       "    .dataframe tbody tr th {\n",
       "        vertical-align: top;\n",
       "    }\n",
       "\n",
       "    .dataframe thead th {\n",
       "        text-align: right;\n",
       "    }\n",
       "</style>\n",
       "<table border=\"1\" class=\"dataframe\">\n",
       "  <thead>\n",
       "    <tr style=\"text-align: right;\">\n",
       "      <th></th>\n",
       "      <th>Hours</th>\n",
       "      <th>Scores</th>\n",
       "    </tr>\n",
       "  </thead>\n",
       "  <tbody>\n",
       "    <tr>\n",
       "      <th>count</th>\n",
       "      <td>15.000000</td>\n",
       "      <td>15.000000</td>\n",
       "    </tr>\n",
       "    <tr>\n",
       "      <th>mean</th>\n",
       "      <td>4.833333</td>\n",
       "      <td>48.066667</td>\n",
       "    </tr>\n",
       "    <tr>\n",
       "      <th>std</th>\n",
       "      <td>2.623429</td>\n",
       "      <td>25.327756</td>\n",
       "    </tr>\n",
       "    <tr>\n",
       "      <th>min</th>\n",
       "      <td>1.100000</td>\n",
       "      <td>17.000000</td>\n",
       "    </tr>\n",
       "    <tr>\n",
       "      <th>25%</th>\n",
       "      <td>2.950000</td>\n",
       "      <td>26.000000</td>\n",
       "    </tr>\n",
       "    <tr>\n",
       "      <th>50%</th>\n",
       "      <td>4.500000</td>\n",
       "      <td>42.000000</td>\n",
       "    </tr>\n",
       "    <tr>\n",
       "      <th>75%</th>\n",
       "      <td>6.800000</td>\n",
       "      <td>68.500000</td>\n",
       "    </tr>\n",
       "    <tr>\n",
       "      <th>max</th>\n",
       "      <td>9.200000</td>\n",
       "      <td>88.000000</td>\n",
       "    </tr>\n",
       "  </tbody>\n",
       "</table>\n",
       "</div>"
      ],
      "text/plain": [
       "           Hours     Scores\n",
       "count  15.000000  15.000000\n",
       "mean    4.833333  48.066667\n",
       "std     2.623429  25.327756\n",
       "min     1.100000  17.000000\n",
       "25%     2.950000  26.000000\n",
       "50%     4.500000  42.000000\n",
       "75%     6.800000  68.500000\n",
       "max     9.200000  88.000000"
      ]
     },
     "execution_count": 7,
     "metadata": {},
     "output_type": "execute_result"
    }
   ],
   "source": [
    "df.describe() # menampilkan distribusi data "
   ]
  },
  {
   "cell_type": "markdown",
   "id": "c66c1e6b-127b-4f70-a310-c0e2692fc1a7",
   "metadata": {},
   "source": [
    "##### 3.2.2 Melakukan visualisasi Data "
   ]
  },
  {
   "cell_type": "code",
   "execution_count": 8,
   "id": "53d9c5c6-4559-4e4b-b4de-5d35535c361a",
   "metadata": {
    "tags": []
   },
   "outputs": [
    {
     "data": {
      "image/png": "[encoded data removed]",
      "text/plain": [
       "<Figure size 640x480 with 1 Axes>"
      ]
     },
     "metadata": {},
     "output_type": "display_data"
    }
   ],
   "source": [
    "df.plot(x = 'Hours', y = 'Scores', style = 'o')\n",
    "plt.xlabel('Scores')\n",
    "plt.ylabel('Hours')\n",
    "plt.title('Scores vs Hours')\n",
    "plt.show()"
   ]
  },
  {
   "cell_type": "markdown",
   "id": "94893a3d-0bc0-4182-9dea-57d11fb79577",
   "metadata": {},
   "source": [
    "**insight:**\n",
    "- variable x dan variable y memiliki korelasi yang linear. Namun untuk lebih jelasnya gunakan garis gradien"
   ]
  },
  {
   "cell_type": "code",
   "execution_count": 9,
   "id": "5dae9371-2bc5-47be-acae-333758b36491",
   "metadata": {
    "tags": []
   },
   "outputs": [
    {
     "data": {
      "text/plain": [
       "<seaborn.axisgrid.JointGrid at 0x25e9db6f6d0>"
      ]
     },
     "execution_count": 9,
     "metadata": {},
     "output_type": "execute_result"
    },
    {
     "data": {
      "image/png": "[encoded data removed]",
      "text/plain": [
       "<Figure size 600x600 with 3 Axes>"
      ]
     },
     "metadata": {},
     "output_type": "display_data"
    }
   ],
   "source": [
    "sns.jointplot(x=df['Hours'], y=df['Scores'], data=df, kind='reg')"
   ]
  },
  {
   "cell_type": "markdown",
   "id": "93e9bbce-0357-4aba-a986-9fd048e9acd2",
   "metadata": {
    "tags": []
   },
   "source": [
    "**insight:**\n",
    "- dari gambar diatas menunjukan korelasi linear yang semakin jelas\n",
    "- Hasil dari EDA diketahui bahwa dua variable saling berkorelasi linear sehingga memunkinkan untuk dilakukan pemodelan regresi linear "
   ]
  },
  {
   "cell_type": "markdown",
   "id": "91b9c7c6-6c61-49d1-a78e-8ffbd7d3f830",
   "metadata": {
    "tags": []
   },
   "source": [
    "#### 4. Menentukan Variable\n",
    "\n",
    "Variable X dan variable Y ditentukan berdasarkan pengaruhnya. "
   ]
  },
  {
   "cell_type": "code",
   "execution_count": 10,
   "id": "091b1d69-c43c-4c9f-b02e-940d8f65e371",
   "metadata": {
    "tags": []
   },
   "outputs": [],
   "source": [
    "X = df.iloc[:,:-1].values  # variable predictor\n",
    "y = df.iloc[:,1].values # variable target"
   ]
  },
  {
   "cell_type": "markdown",
   "id": "abd388db-a689-48be-9d24-24bd22a81577",
   "metadata": {},
   "source": [
    "- `.iloc`    : Metode pengindeksan yang digunakan untuk memilih baris dan kolom berdasarkan indeks numerik.\n",
    "- `[:, :-1]` : Menggunakan slicing pada indeks kolom, ini mengambil semua baris (:) dan semua kolom kecuali yang terakhir (:-1). Dengan kata lain, ini mengambil semua fitur atau variabel independen kecuali variabel dependen yang terletak di kolom terakhir.\n",
    "- `[:,1]`    : Mengambil semua baris pada kolom pertama saja \n",
    "- `.values`  : Digunakan saat berurusan dengan algoritma atau fungsi yang mengharapkan input dalam bentuk array NumPy."
   ]
  },
  {
   "cell_type": "code",
   "execution_count": 11,
   "id": "9a5026e8-1f1d-4850-bfa2-4c15b6e6744b",
   "metadata": {
    "tags": []
   },
   "outputs": [
    {
     "name": "stdout",
     "output_type": "stream",
     "text": [
      "[[2.5]\n",
      " [5.1]\n",
      " [3.2]\n",
      " [8.5]\n",
      " [3.5]\n",
      " [1.5]\n",
      " [9.2]\n",
      " [5.5]\n",
      " [8.3]\n",
      " [2.7]\n",
      " [7.7]\n",
      " [5.9]\n",
      " [4.5]\n",
      " [3.3]\n",
      " [1.1]]\n"
     ]
    }
   ],
   "source": [
    "print(X)"
   ]
  },
  {
   "cell_type": "code",
   "execution_count": 12,
   "id": "c4b83c5d-6839-4573-8b62-4c688208833b",
   "metadata": {
    "tags": []
   },
   "outputs": [
    {
     "name": "stdout",
     "output_type": "stream",
     "text": [
      "[21 47 27 75 30 20 88 60 81 25 85 62 41 42 17]\n"
     ]
    }
   ],
   "source": [
    "print(y)"
   ]
  },
  {
   "cell_type": "markdown",
   "id": "db70b909-d381-4702-adbf-ab32b78046a8",
   "metadata": {},
   "source": [
    "#### 5. Splitting Data "
   ]
  },
  {
   "cell_type": "markdown",
   "id": "b965b04c-b1bf-45d9-a639-8e653c28bc0d",
   "metadata": {},
   "source": [
    "splitting data adalah proses memisahkan dataset menjadi dua yaitu data train dan data test"
   ]
  },
  {
   "cell_type": "code",
   "execution_count": 13,
   "id": "eea316e3-12db-4649-af6d-fc2479e6fb1f",
   "metadata": {
    "tags": []
   },
   "outputs": [
    {
     "name": "stdout",
     "output_type": "stream",
     "text": [
      "Train - Predictors shape (12, 1)\n",
      "Test - Predictors shape (3, 1)\n",
      "Train - Target shape (12, 1)\n",
      "Test - Target shape (3, 1)\n"
     ]
    }
   ],
   "source": [
    "x_train, x_test, y_train, y_test = train_test_split(df['Hours'], df['Scores'], test_size=0.2, random_state=0) # mengatur hyperparameter \n",
    "x_train = np.reshape(x_train, (-1,1))\n",
    "x_test = np.reshape(x_test, (-1,1))\n",
    "y_train = np.reshape(y_train, (-1,1))\n",
    "y_test = np.reshape(y_test, (-1,1))\n",
    "\n",
    "#\n",
    "print('Train - Predictors shape', x_train.shape)\n",
    "print('Test - Predictors shape', x_test.shape)\n",
    "print('Train - Target shape', y_train.shape)\n",
    "print('Test - Target shape', y_test.shape)"
   ]
  },
  {
   "cell_type": "markdown",
   "id": "8b534ecd-d492-4427-965d-c872764dcf6a",
   "metadata": {},
   "source": [
    "#### 6. Linear Regression using Scikit"
   ]
  },
  {
   "cell_type": "code",
   "execution_count": 14,
   "id": "2a1743ef-e65b-4bb2-bfdc-f23bf5e7c7eb",
   "metadata": {
    "tags": []
   },
   "outputs": [
    {
     "data": {
      "text/html": [
       "<style>#sk-container-id-1 {color: black;background-color: white;}#sk-container-id-1 pre{padding: 0;}#sk-container-id-1 div.sk-toggleable {background-color: white;}#sk-container-id-1 label.sk-toggleable__label {cursor: pointer;display: block;width: 100%;margin-bottom: 0;padding: 0.3em;box-sizing: border-box;text-align: center;}#sk-container-id-1 label.sk-toggleable__label-arrow:before {content: \"▸\";float: left;margin-right: 0.25em;color: #696969;}#sk-container-id-1 label.sk-toggleable__label-arrow:hover:before {color: black;}#sk-container-id-1 div.sk-estimator:hover label.sk-toggleable__label-arrow:before {color: black;}#sk-container-id-1 div.sk-toggleable__content {max-height: 0;max-width: 0;overflow: hidden;text-align: left;background-color: #f0f8ff;}#sk-container-id-1 div.sk-toggleable__content pre {margin: 0.2em;color: black;border-radius: 0.25em;background-color: #f0f8ff;}#sk-container-id-1 input.sk-toggleable__control:checked~div.sk-toggleable__content {max-height: 200px;max-width: 100%;overflow: auto;}#sk-container-id-1 input.sk-toggleable__control:checked~label.sk-toggleable__label-arrow:before {content: \"▾\";}#sk-container-id-1 div.sk-estimator input.sk-toggleable__control:checked~label.sk-toggleable__label {background-color: #d4ebff;}#sk-container-id-1 div.sk-label input.sk-toggleable__control:checked~label.sk-toggleable__label {background-color: #d4ebff;}#sk-container-id-1 input.sk-hidden--visually {border: 0;clip: rect(1px 1px 1px 1px);clip: rect(1px, 1px, 1px, 1px);height: 1px;margin: -1px;overflow: hidden;padding: 0;position: absolute;width: 1px;}#sk-container-id-1 div.sk-estimator {font-family: monospace;background-color: #f0f8ff;border: 1px dotted black;border-radius: 0.25em;box-sizing: border-box;margin-bottom: 0.5em;}#sk-container-id-1 div.sk-estimator:hover {background-color: #d4ebff;}#sk-container-id-1 div.sk-parallel-item::after {content: \"\";width: 100%;border-bottom: 1px solid gray;flex-grow: 1;}#sk-container-id-1 div.sk-label:hover label.sk-toggleable__label {background-color: #d4ebff;}#sk-container-id-1 div.sk-serial::before {content: \"\";position: absolute;border-left: 1px solid gray;box-sizing: border-box;top: 0;bottom: 0;left: 50%;z-index: 0;}#sk-container-id-1 div.sk-serial {display: flex;flex-direction: column;align-items: center;background-color: white;padding-right: 0.2em;padding-left: 0.2em;position: relative;}#sk-container-id-1 div.sk-item {position: relative;z-index: 1;}#sk-container-id-1 div.sk-parallel {display: flex;align-items: stretch;justify-content: center;background-color: white;position: relative;}#sk-container-id-1 div.sk-item::before, #sk-container-id-1 div.sk-parallel-item::before {content: \"\";position: absolute;border-left: 1px solid gray;box-sizing: border-box;top: 0;bottom: 0;left: 50%;z-index: -1;}#sk-container-id-1 div.sk-parallel-item {display: flex;flex-direction: column;z-index: 1;position: relative;background-color: white;}#sk-container-id-1 div.sk-parallel-item:first-child::after {align-self: flex-end;width: 50%;}#sk-container-id-1 div.sk-parallel-item:last-child::after {align-self: flex-start;width: 50%;}#sk-container-id-1 div.sk-parallel-item:only-child::after {width: 0;}#sk-container-id-1 div.sk-dashed-wrapped {border: 1px dashed gray;margin: 0 0.4em 0.5em 0.4em;box-sizing: border-box;padding-bottom: 0.4em;background-color: white;}#sk-container-id-1 div.sk-label label {font-family: monospace;font-weight: bold;display: inline-block;line-height: 1.2em;}#sk-container-id-1 div.sk-label-container {text-align: center;}#sk-container-id-1 div.sk-container {/* jupyter's `normalize.less` sets `[hidden] { display: none; }` but bootstrap.min.css set `[hidden] { display: none !important; }` so we also need the `!important` here to be able to override the default hidden behavior on the sphinx rendered scikit-learn.org. See: https://github.com/scikit-learn/scikit-learn/issues/21755 */display: inline-block !important;position: relative;}#sk-container-id-1 div.sk-text-repr-fallback {display: none;}</style><div id=\"sk-container-id-1\" class=\"sk-top-container\"><div class=\"sk-text-repr-fallback\"><pre>LinearRegression()</pre><b>In a Jupyter environment, please rerun this cell to show the HTML representation or trust the notebook. <br />On GitHub, the HTML representation is unable to render, please try loading this page with nbviewer.org.</b></div><div class=\"sk-container\" hidden><div class=\"sk-item\"><div class=\"sk-estimator sk-toggleable\"><input class=\"sk-toggleable__control sk-hidden--visually\" id=\"sk-estimator-id-1\" type=\"checkbox\" checked><label for=\"sk-estimator-id-1\" class=\"sk-toggleable__label sk-toggleable__label-arrow\">LinearRegression</label><div class=\"sk-toggleable__content\"><pre>LinearRegression()</pre></div></div></div></div></div>"
      ],
      "text/plain": [
       "LinearRegression()"
      ]
     },
     "execution_count": 14,
     "metadata": {},
     "output_type": "execute_result"
    }
   ],
   "source": [
    "regressor = LinearRegression() # algoritma regresi linear akan diwakili oleh variable regressor \n",
    "regressor.fit(x_train, y_train) # membuat model regresi linear berdasarkan dataset yang sudah disiapkan dan dipisahkan menjadi data training dan data testing"
   ]
  },
  {
   "cell_type": "code",
   "execution_count": 15,
   "id": "2feed886-bd98-4ee2-9bf8-9ea465b756d1",
   "metadata": {
    "tags": []
   },
   "outputs": [
    {
     "name": "stdout",
     "output_type": "stream",
     "text": [
      "[2.32752006]\n"
     ]
    }
   ],
   "source": [
    "print(regressor.intercept_)"
   ]
  },
  {
   "cell_type": "code",
   "execution_count": 16,
   "id": "b4d35019-df79-4e82-b5a9-a7f5ef84da8b",
   "metadata": {
    "tags": []
   },
   "outputs": [
    {
     "name": "stdout",
     "output_type": "stream",
     "text": [
      "[[9.56051622]]\n"
     ]
    }
   ],
   "source": [
    "print(regressor.coef_)"
   ]
  },
  {
   "cell_type": "markdown",
   "id": "b0f29e5a-2dee-4737-a88e-b9a8f682ba2a",
   "metadata": {},
   "source": [
    "**insight:**\n",
    "- dari nilai koefisien dan intercept yang diperoleh diketahui bahwa\n",
    "- menggunakan rumus y = ax + b,... maka y = 9.56051622X + 2.32752006\n",
    "    - setiap X = 0 maka y = 2.32752006 artinya siswa yang tidak belajar sama sekali akan mendapatkan nilai sebesar 2.32752006\n",
    "    - setiap siswa menambahkan 1 jam belajar maka nilainya akan bertambah sebanyak 9.56051622"
   ]
  },
  {
   "cell_type": "markdown",
   "id": "b29f2ddc-2f1d-41be-a8e0-f33060911de4",
   "metadata": {
    "tags": []
   },
   "source": [
    "#### 7. Melakukan Prediksi Data "
   ]
  },
  {
   "cell_type": "code",
   "execution_count": 17,
   "id": "6d627bcf-55f7-4666-9a05-c2c3f6d689b1",
   "metadata": {
    "tags": []
   },
   "outputs": [],
   "source": [
    "y_pred = regressor.predict(x_test)"
   ]
  },
  {
   "cell_type": "code",
   "execution_count": 18,
   "id": "98ef9313-5a06-44cd-918f-c10d51b28583",
   "metadata": {
    "tags": []
   },
   "outputs": [
    {
     "data": {
      "text/plain": [
       "{'copy_X': True, 'fit_intercept': True, 'n_jobs': None, 'positive': False}"
      ]
     },
     "execution_count": 18,
     "metadata": {},
     "output_type": "execute_result"
    }
   ],
   "source": [
    "regressor.get_params()"
   ]
  },
  {
   "cell_type": "markdown",
   "id": "8b7532b2-7219-4298-a0dd-9b4980586e9f",
   "metadata": {},
   "source": [
    "- `get_params()` : Metode ini memberikan informasi tentang parameter-parameter yang dapat dikonfigurasi pada suatu model machine learning, membantu pengguna untuk memahami konfigurasi model dan melakukan penyesuaian jika diperlukan.\n",
    "- parameter seperti `fit_intercept`, `normalize`, dan lainnya yang dapat dikonfigurasi pada model regresi linear. Ketika kita memiliki pemahaman yang baik tentang parameter-parameter ini, kita dapat menggunakan metode .set_params() untuk mengubah nilai-nilai parameter atau menyesuaikan konfigurasi model sesuai kebutuhan spesifik."
   ]
  },
  {
   "cell_type": "code",
   "execution_count": 19,
   "id": "7687c38d-f42a-4ee0-9c2c-6c4b2ac56ec3",
   "metadata": {
    "tags": []
   },
   "outputs": [
    {
     "data": {
      "text/html": [
       "<div>\n",
       "<style scoped>\n",
       "    .dataframe tbody tr th:only-of-type {\n",
       "        vertical-align: middle;\n",
       "    }\n",
       "\n",
       "    .dataframe tbody tr th {\n",
       "        vertical-align: top;\n",
       "    }\n",
       "\n",
       "    .dataframe thead th {\n",
       "        text-align: right;\n",
       "    }\n",
       "</style>\n",
       "<table border=\"1\" class=\"dataframe\">\n",
       "  <thead>\n",
       "    <tr style=\"text-align: right;\">\n",
       "      <th></th>\n",
       "      <th>Actual</th>\n",
       "      <th>Predicted</th>\n",
       "    </tr>\n",
       "  </thead>\n",
       "  <tbody>\n",
       "    <tr>\n",
       "      <th>0</th>\n",
       "      <td>47</td>\n",
       "      <td>51.086153</td>\n",
       "    </tr>\n",
       "    <tr>\n",
       "      <th>1</th>\n",
       "      <td>88</td>\n",
       "      <td>90.284269</td>\n",
       "    </tr>\n",
       "    <tr>\n",
       "      <th>2</th>\n",
       "      <td>81</td>\n",
       "      <td>81.679805</td>\n",
       "    </tr>\n",
       "  </tbody>\n",
       "</table>\n",
       "</div>"
      ],
      "text/plain": [
       "   Actual  Predicted\n",
       "0      47  51.086153\n",
       "1      88  90.284269\n",
       "2      81  81.679805"
      ]
     },
     "execution_count": 19,
     "metadata": {},
     "output_type": "execute_result"
    }
   ],
   "source": [
    "df = pd.DataFrame({'Actual':y_test.ravel(), 'Predicted':y_pred.ravel()})\n",
    "df"
   ]
  },
  {
   "cell_type": "markdown",
   "id": "8ef1025d-0245-4cdd-9aa0-fc54457b4eff",
   "metadata": {},
   "source": [
    "#### 8. Melakukan uji peforma model dengan metrics evaluasi"
   ]
  },
  {
   "cell_type": "markdown",
   "id": "1c33a0fa-b96a-45c4-a5d6-8b95550a2e17",
   "metadata": {},
   "source": [
    "##### 8.1 Mean Absolute Error"
   ]
  },
  {
   "cell_type": "code",
   "execution_count": 20,
   "id": "7a84a0a7-efc9-40c4-97a0-b93c75d610e3",
   "metadata": {
    "tags": []
   },
   "outputs": [
    {
     "name": "stdout",
     "output_type": "stream",
     "text": [
      "Mean Absolute Error 2.3500755726078424\n"
     ]
    }
   ],
   "source": [
    "print('Mean Absolute Error', metrics.mean_absolute_error(y_test, y_pred))"
   ]
  },
  {
   "cell_type": "markdown",
   "id": "dc9a1a4c-458b-4791-ad45-cbe57cc0644f",
   "metadata": {},
   "source": [
    "- MAE digunakan untuk menunjukan kesalahan rata-rata error nilai aktual(y_test) dan nilai prediksi (y_pred)\n",
    "- MAE adalah total keseluruhan rata-rata selisih dari nilai prediksi dengan nilai sebenarnya yang diabsolutkan, untuk menghindari nilai minus yang menyebabkan adanya bias\n",
    "- Semakin kecil nilai MAE maka semakin baik model regresi tersebut"
   ]
  },
  {
   "cell_type": "markdown",
   "id": "8763c861-65d8-422c-b72d-8591118daea8",
   "metadata": {},
   "source": [
    "##### 8.2 Mean Squared Error"
   ]
  },
  {
   "cell_type": "code",
   "execution_count": 21,
   "id": "358ad465-a0d3-4d84-8987-20e8c5eee543",
   "metadata": {
    "tags": []
   },
   "outputs": [
    {
     "name": "stdout",
     "output_type": "stream",
     "text": [
      "Mean Squared Error 7.458888326959026\n"
     ]
    }
   ],
   "source": [
    "print('Mean Squared Error', metrics.mean_squared_error(y_test, y_pred))"
   ]
  },
  {
   "cell_type": "markdown",
   "id": "51b9f543-198a-4517-bd27-c645b55dbe60",
   "metadata": {
    "tags": []
   },
   "source": [
    "- MSE serupa dengan MAe, namun tidak diabsolutkan tetapi dikuadratkan\n",
    "- MSE digunakan untuk mengetahui adanya nilai yang tidak terduga (bukan outlier) \n",
    "- Dengan MSE, nilai yang diperoleh bisa lebih besar dua kali lipat dari nilai MAE yang diperoleh\n",
    "- Jika model regresi kita buruk maka metrics yang dihasilkan akan jauh lebih buruk karena dikuadratkan\n",
    "- karena menggunakan mean, metrics ini rentan terhadap outliers sehingga sulit untuuk digunakan untuk menentukan peforma model"
   ]
  },
  {
   "cell_type": "markdown",
   "id": "a20793b9-1370-4f27-a543-ee615d42aef4",
   "metadata": {},
   "source": [
    "##### MAE vs MSE\n",
    "\n",
    "Mana yang digunakan antara MAE atau MSE ?\n",
    "- tergantung pada data yang dimiliki\n",
    "- jika pada data terdapat outlier maka gunakan MAE\n",
    "- jika terdapat data yang tidak terduga dan perlu perhatian khusus gunakan MSE \n",
    "- MAE lebih banyak digunakan diberbagai kasus dibandingkan MSE "
   ]
  },
  {
   "cell_type": "markdown",
   "id": "6553e94a-0155-413c-80a5-f494f702ef0d",
   "metadata": {},
   "source": [
    "##### 8.3 Root Mean Squared Error"
   ]
  },
  {
   "cell_type": "code",
   "execution_count": 22,
   "id": "7b9f43db-baab-4b1e-a25c-44d0b983305b",
   "metadata": {
    "tags": []
   },
   "outputs": [
    {
     "name": "stdout",
     "output_type": "stream",
     "text": [
      "Root Mean Squared Error 2.7310965429583454\n"
     ]
    }
   ],
   "source": [
    "print('Root Mean Squared Error', np.sqrt(metrics.mean_squared_error(y_test, y_pred)))"
   ]
  },
  {
   "cell_type": "markdown",
   "id": "aae95dc4-351c-4e9e-90ca-c9556d427067",
   "metadata": {
    "tags": []
   },
   "source": [
    "- RMSE adalah nilai MSE yang di akar kuadratkan\n",
    "- RMSE menjadikan nilai MSE yang berlipat ganda normal kembali"
   ]
  },
  {
   "cell_type": "markdown",
   "id": "e3592316-4b1d-4dad-958e-bea48df5e810",
   "metadata": {},
   "source": [
    "##### RMSE vs MSE\n",
    "\n",
    "Mana yang digunakan antara MSE dan RMSE ?\n",
    "- Jika kasus yang dihadapi terdapat outlier maka MAE lebih baik dari RMSE\n",
    "- Jika membandingkan dua model regresi yang berbeda maka gunakan RMSE \n"
   ]
  },
  {
   "cell_type": "markdown",
   "id": "edbced2e-0b1b-4513-9fdf-f4620fe095b1",
   "metadata": {},
   "source": [
    "##### 8.4 R-Squared Value"
   ]
  },
  {
   "cell_type": "code",
   "execution_count": 23,
   "id": "8b38eb43-b363-4e4f-bf32-5bb04078378f",
   "metadata": {
    "tags": []
   },
   "outputs": [
    {
     "name": "stdout",
     "output_type": "stream",
     "text": [
      "Mean R^2  Squared Value 0.9767394334918118\n"
     ]
    }
   ],
   "source": [
    "print('Mean R^2  Squared Value', metrics.r2_score(y_test, y_pred))"
   ]
  },
  {
   "cell_type": "markdown",
   "id": "26b275b3-8d12-47fb-81d2-d66546004e89",
   "metadata": {},
   "source": [
    "- R-squared adalah nilai yang memiliki rentang 0-1 untuk menjelaskan besarnya variasi variable independen terhadap variable dependen\n",
    "- semakin besar nilai R-square maka semakin baik model yang dibuat \n",
    "- contoh pada nilai diatas sebesar 97% dari variable dependen dapat dijelaskan oleh variable independen. artinya model regresi yang dibuat sangat baik dalam memprediksi data baru\n",
    "- namun kekurangan R-square yaitu semakin banyak prediktor maka semakin tinggi nilainya, padahal hubungan antar variablenya belum jelas. sehingga mudah untuk meningkatkan R-square karena hanya perlu menambahkan kolom prediktor saja. "
   ]
  },
  {
   "cell_type": "markdown",
   "id": "547d0601-7ca7-4970-96c7-f0a37ef9697b",
   "metadata": {},
   "source": [
    "#### 9. Visualisasi Hasil model Regresi"
   ]
  },
  {
   "cell_type": "code",
   "execution_count": 24,
   "id": "5e16a86e-65e8-42f7-8054-aa760917c3c4",
   "metadata": {
    "tags": []
   },
   "outputs": [
    {
     "data": {
      "image/png": "[encoded data removed]",
      "text/plain": [
       "<Figure size 640x480 with 1 Axes>"
      ]
     },
     "metadata": {},
     "output_type": "display_data"
    }
   ],
   "source": [
    "plt.scatter(x_test,y_test)\n",
    "plt.plot(x_test,y_pred, color='red', linewidth=3)\n",
    "plt.xlabel('Hours')\n",
    "plt.ylabel('Scores')\n",
    "plt.title('Linear Regression')\n",
    "plt.show()"
   ]
  },
  {
   "cell_type": "markdown",
   "id": "d35549aa-bd12-4851-a404-5c46ed61e5e2",
   "metadata": {},
   "source": [
    "**insight:**\n",
    "- terlihat bahwa seluruh data uji tidak berbeda jauh dari garis gradien sehingga secara garis besar model yang dibuat memiliki prediksi yang sangat akurat dan baik"
   ]
  },
  {
   "cell_type": "code",
   "execution_count": 25,
   "id": "6ab7e77b-19c8-4f99-8d3d-8a2ae60b26ec",
   "metadata": {
    "tags": []
   },
   "outputs": [
    {
     "data": {
      "text/plain": [
       "Text(0, 0.5, 'Residual')"
      ]
     },
     "execution_count": 25,
     "metadata": {},
     "output_type": "execute_result"
    },
    {
     "data": {
      "image/png": "[encoded data removed]",
      "text/plain": [
       "<Figure size 640x480 with 1 Axes>"
      ]
     },
     "metadata": {},
     "output_type": "display_data"
    }
   ],
   "source": [
    "#Residual plot\n",
    "plt.scatter(regressor.predict(x_test), regressor.predict(x_test) - y_test, c='g', s = 40)\n",
    "plt.hlines(y=0, xmin=0, xmax=100)\n",
    "plt.title('Residual plot')\n",
    "plt.ylabel('Residual')"
   ]
  },
  {
   "cell_type": "markdown",
   "id": "92d45662-b815-4aed-ada6-e895f5a35745",
   "metadata": {},
   "source": [
    "**insight:**\n",
    "- dari scatter plot diatas diketahui bahwa model regresi tidak terjebak dalam heteroskedastisitas karena garisnya tidak mengikuti besarnya nilai prediksi. artinya model layak untuk memprediksi data baru"
   ]
  },
  {
   "cell_type": "markdown",
   "id": "b9a408dc-7433-4a24-93ce-2c31105f3365",
   "metadata": {
    "tags": []
   },
   "source": [
    "###### Conclusion \n",
    "\n",
    "Tahapan SLR di python\n",
    "1. Import Library\n",
    "2. Membaca Data\n",
    "3. Data pre-processing - EDA\n",
    "4. Menentukan variable X dan variable Y\n",
    "5. Splitting Data\n",
    "6. Melakukan Pemodelan\n",
    "7. Melakukan Prediksi Data\n",
    "8. Uji Performa Model\n",
    "9. Visualisasi hasil regresi'\n",
    "10. Analisis residual"
   ]
  }
 ],
 "metadata": {
  "kernelspec": {
   "display_name": "vulcan_da",
   "language": "python",
   "name": "vulcan_da"
  },
  "language_info": {
   "codemirror_mode": {
    "name": "ipython",
    "version": 3
   },
   "file_extension": ".py",
   "mimetype": "text/x-python",
   "name": "python",
   "nbconvert_exporter": "python",
   "pygments_lexer": "ipython3",
   "version": "3.11.5"
  }
 },
 "nbformat": 4,
 "nbformat_minor": 5
}
